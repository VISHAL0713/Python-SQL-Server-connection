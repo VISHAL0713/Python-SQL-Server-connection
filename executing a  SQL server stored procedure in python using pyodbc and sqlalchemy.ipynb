{
 "cells": [
  {
   "cell_type": "code",
   "execution_count": 1,
   "metadata": {},
   "outputs": [],
   "source": [
    "##### importing the libraries\n",
    "import os\n",
    "from distutils.util import strtobool\n",
    "import pandas as pd\n",
    "import pyodbc\n",
    "from sqlalchemy import create_engine, update\n",
    "from urllib.parse import quote_plus\n",
    "from sqlalchemy import MetaData,Table\n",
    "from sqlalchemy.sql import text as txt"
   ]
  },
  {
   "cell_type": "code",
   "execution_count": 2,
   "metadata": {},
   "outputs": [],
   "source": [
    "conn =  \"DRIVER={SQL Server};SERVER=AAPL-L-627\\SQLEXPRESS;DATABASE=test\"\n",
    "quoted = quote_plus(conn)\n",
    "new_con = 'mssql+pyodbc:///?odbc_connect={}'.format(quoted)\n",
    "conn = create_engine(new_con)"
   ]
  },
  {
   "cell_type": "code",
   "execution_count": 13,
   "metadata": {},
   "outputs": [],
   "source": [
    "data = pd.read_excel(r'D:\\1551091150_Sales Data.xlsx')"
   ]
  },
  {
   "cell_type": "code",
   "execution_count": 9,
   "metadata": {},
   "outputs": [
    {
     "data": {
      "text/plain": [
       "(29999, 23)"
      ]
     },
     "execution_count": 9,
     "metadata": {},
     "output_type": "execute_result"
    }
   ],
   "source": [
    "data.head()\n",
    "data.shape"
   ]
  },
  {
   "cell_type": "code",
   "execution_count": 14,
   "metadata": {},
   "outputs": [],
   "source": [
    "data.to_sql(name = 'ModelRunMeta',con = conn,if_exists='replace',index = False)"
   ]
  },
  {
   "cell_type": "code",
   "execution_count": 9,
   "metadata": {},
   "outputs": [],
   "source": [
    "def connect_to_sql_server(server_name, database_name):\n",
    "\n",
    "    cnxn_str = (\"Driver={SQL Server Native Client 11.0};\"\n",
    "                \"Server=%s;\"\n",
    "                \"Database=%s;\"\n",
    "                \"Trusted_Connection=yes;\" % (server_name, database_name))\n",
    "\n",
    "    cnxn = pyodbc.connect(cnxn_str)\n",
    "    cursor = cnxn.cursor()\n",
    "\n",
    "    return cursor"
   ]
  },
  {
   "cell_type": "code",
   "execution_count": 10,
   "metadata": {},
   "outputs": [],
   "source": [
    "cursor = connect_to_sql_server('AAPL-L-627\\SQLEXPRESS','test')"
   ]
  },
  {
   "cell_type": "code",
   "execution_count": 11,
   "metadata": {},
   "outputs": [],
   "source": [
    "### function to delete the records through stored procedure\n",
    "\n",
    "def delete(sql,cur,param):\n",
    "    cur.execute(query,param)\n",
    "    cur.commit()"
   ]
  },
  {
   "cell_type": "code",
   "execution_count": 12,
   "metadata": {},
   "outputs": [],
   "source": [
    "#### query to execute the store procedure with parameters\n",
    "query = \"\"\"EXEC del @DBName = ?, @SchemaName = ?,@TableName = ?\n",
    "\"\"\"\n",
    "\n",
    "#### initializing the database, table,schema details\n",
    "table_name = 'ModelRunMeta'\n",
    "database_name = 'test'\n",
    "schema_name = 'dbo'\n",
    "\n",
    "\n",
    "#### creating the parameters list\n",
    "params = (database_name,schema_name,table_name)\n",
    "\n",
    "### calling the delete function\n",
    "delete(query,cursor,params)"
   ]
  },
  {
   "cell_type": "markdown",
   "metadata": {},
   "source": [
    "#### using SQL alchemy"
   ]
  },
  {
   "cell_type": "code",
   "execution_count": 22,
   "metadata": {},
   "outputs": [],
   "source": [
    "#### connection of python to SQL server using SQLalchemy configuration\n",
    "def connect_to_sql_server(server_name, database_name):\n",
    "\n",
    "    # Connect using sql alchemy\n",
    "    driver_name = 'SQL Server Native Client 11.0'\n",
    "    params = urllib.parse.quote_plus('''Driver={};\n",
    "                                     Server={};\n",
    "                                     Database={};\n",
    "                                    Trusted_Connection=yes'''\n",
    "                                    .format(driver_name, server_name,\n",
    "                                             database_name))\n",
    "\n",
    "    engine = create_engine(\"mssql+pyodbc:///?odbc_connect=%s\" % params)\n",
    "\n",
    "    return engine"
   ]
  },
  {
   "cell_type": "code",
   "execution_count": 11,
   "metadata": {},
   "outputs": [],
   "source": [
    "table_name = 'ModelRunMeta'\n",
    "database_name = 'test'\n",
    "schema_name = 'dbo'\n",
    "server = 'AAPL-L-627\\SQLEXPRESS'"
   ]
  },
  {
   "cell_type": "code",
   "execution_count": 24,
   "metadata": {},
   "outputs": [],
   "source": [
    "### making the connection\n",
    "engine = connect_to_sql_server(server, database_name)"
   ]
  },
  {
   "cell_type": "code",
   "execution_count": 25,
   "metadata": {},
   "outputs": [],
   "source": [
    "def delete(engine):\n",
    "    with engine.begin() as connect:\n",
    "        connect.execute(\"exec dbo.del ?, ?, ?\",[database_name,schema_name,table_name])"
   ]
  },
  {
   "cell_type": "code",
   "execution_count": 26,
   "metadata": {},
   "outputs": [],
   "source": [
    "delete(engine)"
   ]
  },
  {
   "cell_type": "markdown",
   "metadata": {},
   "source": [
    "#### 2nd method using SQL alchemy"
   ]
  },
  {
   "cell_type": "code",
   "execution_count": 15,
   "metadata": {},
   "outputs": [],
   "source": [
    "with conn.connect().execution_options(autocommit=True) as con:\n",
    "    con.execute(txt(\"EXEC del @DBName = \" + database_name + \", @SchemaName =\" + schema_name + \", @TableName =\" + table_name))"
   ]
  },
  {
   "cell_type": "code",
   "execution_count": null,
   "metadata": {},
   "outputs": [],
   "source": []
  },
  {
   "cell_type": "code",
   "execution_count": null,
   "metadata": {},
   "outputs": [],
   "source": []
  }
 ],
 "metadata": {
  "kernelspec": {
   "display_name": "Python 3",
   "language": "python",
   "name": "python3"
  },
  "language_info": {
   "codemirror_mode": {
    "name": "ipython",
    "version": 3
   },
   "file_extension": ".py",
   "mimetype": "text/x-python",
   "name": "python",
   "nbconvert_exporter": "python",
   "pygments_lexer": "ipython3",
   "version": "3.6.5"
  }
 },
 "nbformat": 4,
 "nbformat_minor": 4
}
